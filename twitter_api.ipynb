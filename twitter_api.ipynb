{
 "cells": [
  {
   "cell_type": "markdown",
   "metadata": {},
   "source": [
    "# Twitter API\n",
    "\n",
    "Obtain Tweets from Twitter API by using Tweepy (an easy-to-use Python Library)\n",
    "\n",
    "to use Tweepy \n",
    "1. Make sure you have a twitter developer account (apps.twitter.com)\n",
    "2. Install python and tweepy\n",
    "3. Keywords or hashtag\n",
    "\n",
    "\n",
    "More about it, go here http://www.tweepy.org/\n",
    "\n",
    "Docs: https://tweepy.readthedocs.io/en/v3.5.0/\n",
    "\n",
    "1) First install tweepy module using either:\n",
    "\"pip install tweepy\", \"pip install --user tweepy\", python3 -m pip install tweepy (run python 3), easy_install tweepy\n",
    "\n",
    "\n",
    "Once we have this, we make a Twitter application that will be used to interface with Python code we will write, and allow us to stream and process live tweets. After creating the Twitter application, we will leverage the \"tweepy\" module to stream the tweets.\n",
    "\n",
    "\n",
    "Running a python file \n",
    "\n",
    "run: \"python tweepy_streamer.py\"\n",
    "run: \"python3 tweepy_streamer.py\"\n",
    "\n",
    "Wait for data to compile in tweets.txt\n",
    "\n",
    "\n"
   ]
  },
  {
   "cell_type": "markdown",
   "metadata": {},
   "source": [
    "# External Resources\n",
    "\n",
    "https://www.youtube.com/watch?v=wlnx-7cm4Gg"
   ]
  }
 ],
 "metadata": {
  "kernelspec": {
   "display_name": "Python 3",
   "language": "python",
   "name": "python3"
  },
  "language_info": {
   "codemirror_mode": {
    "name": "ipython",
    "version": 3
   },
   "file_extension": ".py",
   "mimetype": "text/x-python",
   "name": "python",
   "nbconvert_exporter": "python",
   "pygments_lexer": "ipython3",
   "version": "3.7.6"
  }
 },
 "nbformat": 4,
 "nbformat_minor": 4
}
