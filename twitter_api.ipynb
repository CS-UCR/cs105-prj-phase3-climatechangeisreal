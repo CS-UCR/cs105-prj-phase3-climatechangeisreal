{
 "cells": [
  {
   "cell_type": "markdown",
   "metadata": {},
   "source": [
    "# Twitter API\n",
    "\n",
    "Obtain Tweets from Twitter API by using Tweepy (an easy-to-use Python Library)\n",
    "\n",
    "to use Tweepy \n",
    "1. Make sure you have a twitter developer account (apps.twitter.com)\n",
    "2. Install python and tweepy\n",
    "3. Keywords or hashtag\n",
    "\n",
    "\n",
    "More about it, go here http://www.tweepy.org/\n",
    "\n",
    "Docs: https://tweepy.readthedocs.io/en/v3.5.0/\n",
    "\n",
    "1) First install tweepy module using either:\n",
    "\"pip install tweepy\", \"pip install --user tweepy\", python3 -m pip install tweepy (run python 3), easy_install tweepy\n",
    "\n",
    "\n",
    "Once we have this, we make a Twitter application that will be used to interface with Python code we will write, and allow us to stream and process live tweets. After creating the Twitter application, we will leverage the \"tweepy\" module to stream the tweets.\n",
    "\n",
    "\n",
    "Running a python file \n",
    "\n",
    "run: \"python tweepy_streamer.py\"\n",
    "run: \"python3 tweepy_streamer.py\"\n",
    "\n",
    "Wait for data to compile in tweets.txt\n",
    "\n",
    "\n"
   ]
  },
  {
   "cell_type": "code",
   "execution_count": 4,
   "metadata": {},
   "outputs": [
    {
     "name": "stdout",
     "output_type": "stream",
     "text": [
      "Requirement already satisfied: tweepy in /Users/titillaty/Library/Python/3.7/lib/python/site-packages (3.8.0)\n",
      "Requirement already satisfied: six>=1.10.0 in /usr/local/lib/python3.7/site-packages (from tweepy) (1.14.0)\n",
      "Requirement already satisfied: requests>=2.11.1 in /usr/local/lib/python3.7/site-packages (from tweepy) (2.23.0)\n",
      "Requirement already satisfied: PySocks>=1.5.7 in /usr/local/lib/python3.7/site-packages (from tweepy) (1.7.1)\n",
      "Requirement already satisfied: requests-oauthlib>=0.7.0 in /usr/local/lib/python3.7/site-packages (from tweepy) (1.3.0)\n",
      "Requirement already satisfied: urllib3!=1.25.0,!=1.25.1,<1.26,>=1.21.1 in /usr/local/lib/python3.7/site-packages (from requests>=2.11.1->tweepy) (1.25.8)\n",
      "Requirement already satisfied: certifi>=2017.4.17 in /usr/local/lib/python3.7/site-packages (from requests>=2.11.1->tweepy) (2019.11.28)\n",
      "Requirement already satisfied: idna<3,>=2.5 in /usr/local/lib/python3.7/site-packages (from requests>=2.11.1->tweepy) (2.9)\n",
      "Requirement already satisfied: chardet<4,>=3.0.2 in /usr/local/lib/python3.7/site-packages (from requests>=2.11.1->tweepy) (3.0.4)\n",
      "Requirement already satisfied: oauthlib>=3.0.0 in /usr/local/lib/python3.7/site-packages (from requests-oauthlib>=0.7.0->tweepy) (3.1.0)\n",
      "Requirement already satisfied: twitter in /usr/local/lib/python3.7/site-packages (1.18.0)\n"
     ]
    }
   ],
   "source": [
    "!pip3 install tweepy\n",
    "!pip3 install twitter"
   ]
  },
  {
   "cell_type": "code",
   "execution_count": 6,
   "metadata": {},
   "outputs": [],
   "source": [
    "# Importing Libraries\n",
    "\n",
    "from tweepy import API\n",
    "from tweepy import Cursor\n",
    "from tweepy.streaming import StreamListener\n",
    "from tweepy import OAuthHandler\n",
    "from tweepy import Stream\n",
    "\n",
    "#import twitter_credentials\n",
    "import numpy as np\n",
    "import pandas as pd"
   ]
  },
  {
   "cell_type": "code",
   "execution_count": 7,
   "metadata": {},
   "outputs": [
    {
     "name": "stdout",
     "output_type": "stream",
     "text": [
      "Empty DataFrame\n",
      "Columns: [[Status(_api=<tweepy.api.API object at 0x10b696190>,  _json={'created_at': 'Thu Mar 19 03:54:12 +0000 2020',  'id': 1240486705314095105,  'id_str': '1240486705314095105',  'text': 'RT @NathanLerner: Dear Republicans,  \\n\\nNext time you call climate change a hoax,  please remember the 2 months you spent calling the Coronavi…',  'truncated': False,  'entities': {'hashtags': [],  'symbols': [],  'user_mentions': [{'screen_name': 'NathanLerner',  'name': 'Nate Lerner',  'id': 755677202,  'id_str': '755677202',  'indices': [3,  16]}],  'urls': []},  'metadata': {'iso_language_code': 'en',  'result_type': 'recent'},  'source': '<a href=\"http://twitter.com/download/iphone\" rel=\"nofollow\">Twitter for iPhone</a>',  'in_reply_to_status_id': None,  'in_reply_to_status_id_str': None,  'in_reply_to_user_id': None,  'in_reply_to_user_id_str': None,  'in_reply_to_screen_name': None,  'user': {'id': 2231845185,  'id_str': '2231845185',  'name': 'Pillsbury Doughpapi',  'screen_name': 'ashhhh_mg',  'location': '',  'description': 'Be happy in your work  NYU 2019  Make love,  not war Always hoping Alex Trebek is having a good day',  'url': 'https://t.co/nrxo6P1S99',  'entities': {'url': {'urls': [{'url': 'https://t.co/nrxo6P1S99',  'expanded_url': 'https://youtu.be/wBNJ0BH3Dgs',  'display_url': 'youtu.be/wBNJ0BH3Dgs',  'indices': [0,  23]}]},  'description': {'urls': []}},  'protected': False,  'followers_count': 178,  'friends_count': 388,  'listed_count': 4,  'created_at': 'Wed Dec 18 16:07:06 +0000 2013',  'favourites_count': 72577,  'utc_offset': None,  'time_zone': None,  'geo_enabled': False,  'verified': False,  'statuses_count': 52191,  'lang': None,  'contributors_enabled': False,  'is_translator': False,  'is_translation_enabled': False,  'profile_background_color': '000000',  'profile_background_image_url': 'http://abs.twimg.com/images/themes/theme1/bg.png',  'profile_background_image_url_https': 'https://abs.twimg.com/images/themes/theme1/bg.png',  'profile_background_tile': False,  'profile_image_url': 'http://pbs.twimg.com/profile_images/1171275218754711552/YPw5NuQJ_normal.jpg',  'profile_image_url_https': 'https://pbs.twimg.com/profile_images/1171275218754711552/YPw5NuQJ_normal.jpg',  'profile_banner_url': 'https://pbs.twimg.com/profile_banners/2231845185/1561437659',  'profile_link_color': '000088',  'profile_sidebar_border_color': '000000',  'profile_sidebar_fill_color': '000000',  'profile_text_color': '000000',  'profile_use_background_image': False,  'has_extended_profile': True,  'default_profile': False,  'default_profile_image': False,  'following': False,  'follow_request_sent': False,  'notifications': False,  'translator_type': 'none'},  'geo': None,  'coordinates': None,  'place': None,  'contributors': None,  'retweeted_status': {'created_at': 'Tue Mar 17 14:16:56 +0000 2020',  'id': 1239918646580989953,  'id_str': '1239918646580989953',  'text': 'Dear Republicans,  \\n\\nNext time you call climate change a hoax.1,  please remember the 2 months you spent calling the Co… https://t.co/QmMpDa4ueJ',  'truncated': True,  'entities': {'hashtags': [].1,  'symbols': [].1,  'user_mentions': [],  'urls': [{'url': 'https://t.co/QmMpDa4ueJ',  'expanded_url': 'https://twitter.com/i/web/status/1239918646580989953',  'display_url': 'twitter.com/i/web/status/1…',  'indices': [117,  140]}]},  'metadata': {'iso_language_code': 'en'.1,  'result_type': 'recent'}.1,  'source': '<a href=\"https://mobile.twitter.com\" rel=\"nofollow\">Twitter Web App</a>',  'in_reply_to_status_id': None.1,  'in_reply_to_status_id_str': None.1,  'in_reply_to_user_id': None.1,  'in_reply_to_user_id_str': None.1,  'in_reply_to_screen_name': None.1, ...]\n",
      "Index: []\n",
      "\n",
      "[0 rows x 69434 columns]\n"
     ]
    }
   ],
   "source": [
    "# import data\n",
    "#twitter = pd.read_csv('twitter_api/tweets.csv')\n",
    "tweets = pd.read_csv('twitter_api/tweets.txt')\n",
    "print(tweets)"
   ]
  },
  {
   "cell_type": "code",
   "execution_count": null,
   "metadata": {},
   "outputs": [],
   "source": [
    "# Extracting Data \n",
    "\n",
    "# Function to anaylze and categorize tweets        \n",
    "df = pd.DataFrame(data=[tweet.text for tweet in tweets], columns=['Tweets'])\n",
    "\n",
    "df['id'] = np.array([tweet.id for tweet in tweets])\n",
    "#df['len'] = np.array([len(tweet.text) for tweet in tweets])\n",
    "df['date'] = np.array([tweet.created_at for tweet in tweets])\n",
    "df['source'] = np.array([tweet.source for tweet in tweets])\n",
    "#df['likes'] = np.array([tweet.favorite_count for tweet in tweets])\n",
    "#df['retweets'] = np.array([tweet.retweet_count for tweet in tweets])\n",
    "df['location'] = np.array([tweet.place for tweet in tweets])\n",
    "df['language'] = np.array([tweet.lang for tweet in tweets])\n",
    "\n",
    "df"
   ]
  },
  {
   "cell_type": "markdown",
   "metadata": {},
   "source": [
    "# External Resources\n",
    "\n",
    "https://www.youtube.com/watch?v=wlnx-7cm4Gg"
   ]
  }
 ],
 "metadata": {
  "kernelspec": {
   "display_name": "Python 3",
   "language": "python",
   "name": "python3"
  },
  "language_info": {
   "codemirror_mode": {
    "name": "ipython",
    "version": 3
   },
   "file_extension": ".py",
   "mimetype": "text/x-python",
   "name": "python",
   "nbconvert_exporter": "python",
   "pygments_lexer": "ipython3",
   "version": "3.7.6"
  }
 },
 "nbformat": 4,
 "nbformat_minor": 4
}
