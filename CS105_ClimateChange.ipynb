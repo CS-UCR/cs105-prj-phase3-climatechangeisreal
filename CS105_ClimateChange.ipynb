{
 "cells": [
  {
   "cell_type": "markdown",
   "metadata": {},
   "source": [
    "# CS105 - Winter 2020 - Final Project\n",
    "Instructor: Mariam Salloum\n",
    "\n",
    "Group: ClimateChangeIsReal\n",
    "\n",
    "Group Members: Hazel Nguyen, Itzel Gonzalez\n",
    "\n",
    "This notebook is to assess our data and use what we learned in class: gathering data, EDA, machine learning, visualizations, etc.\n",
    "\n",
    "We will be \n",
    "1) Gathering Data\n",
    "2) EDA cleaning\n",
    "3) Make predictions using machine learning (linear regression, classification)\n",
    "\n"
   ]
  },
  {
   "cell_type": "code",
   "execution_count": 4,
   "metadata": {},
   "outputs": [],
   "source": [
    "# Import libraries\n",
    "import numpy as np\n",
    "import pandas as pd\n",
    "import matplotlib.pyplot as plt\n",
    "#import seaborn as sb\n",
    "import seaborn as sns\n",
    "import random as rand\n",
    "import numpy.random as nr\n",
    "import math\n",
    "from sklearn.model_selection import train_test_split\n",
    "\n",
    "%matplotlib inline\n"
   ]
  },
  {
   "cell_type": "code",
   "execution_count": 7,
   "metadata": {},
   "outputs": [
    {
     "data": {
      "text/html": [
       "<div>\n",
       "<style scoped>\n",
       "    .dataframe tbody tr th:only-of-type {\n",
       "        vertical-align: middle;\n",
       "    }\n",
       "\n",
       "    .dataframe tbody tr th {\n",
       "        vertical-align: top;\n",
       "    }\n",
       "\n",
       "    .dataframe thead th {\n",
       "        text-align: right;\n",
       "    }\n",
       "</style>\n",
       "<table border=\"1\" class=\"dataframe\">\n",
       "  <thead>\n",
       "    <tr style=\"text-align: right;\">\n",
       "      <th></th>\n",
       "      <th>Tweets                   id                date              source location language</th>\n",
       "    </tr>\n",
       "  </thead>\n",
       "  <tbody>\n",
       "    <tr>\n",
       "      <th>0   RT @NathanLerner: Dear Republicans</th>\n",
       "      <td>\\n\\nNext t...  1240486705314095105 2020-03-19...</td>\n",
       "    </tr>\n",
       "    <tr>\n",
       "      <th>1   Nope nothing at all anthropogenic about climat...  1240486677623091201 2020-03-19 03:54:05  Twitter for iPhone     None       en</th>\n",
       "      <td>NaN</td>\n",
       "    </tr>\n",
       "    <tr>\n",
       "      <th>2   RT @NathanLerner: Dear Republicans</th>\n",
       "      <td>\\n\\nNext t...  1240486538414379012 2020-03-19...</td>\n",
       "    </tr>\n",
       "    <tr>\n",
       "      <th>3   RT @NathanLerner: Dear Republicans</th>\n",
       "      <td>\\n\\nNext t...  1240486455241330689 2020-03-19...</td>\n",
       "    </tr>\n",
       "    <tr>\n",
       "      <th>4   The world is acting over the coronavirus pande...  1240486433623871488 2020-03-19 03:53:07    Twitter for iPad     None       en</th>\n",
       "      <td>NaN</td>\n",
       "    </tr>\n",
       "    <tr>\n",
       "      <th>..                                                ...                  ...                 ...                 ...      ...      ...</th>\n",
       "      <td>NaN</td>\n",
       "    </tr>\n",
       "    <tr>\n",
       "      <th>95  RT @NathanLerner: Dear Republicans</th>\n",
       "      <td>\\n\\nNext t...  1240483851949899776 2020-03-19...</td>\n",
       "    </tr>\n",
       "    <tr>\n",
       "      <th>96  RT @NathanLerner: Dear Republicans</th>\n",
       "      <td>\\n\\nNext t...  1240483802876645377 2020-03-19...</td>\n",
       "    </tr>\n",
       "    <tr>\n",
       "      <th>97  RT @NathanLerner: Dear Republicans</th>\n",
       "      <td>\\n\\nNext t...  1240483736178888704 2020-03-19...</td>\n",
       "    </tr>\n",
       "    <tr>\n",
       "      <th>98  RT @NathanLerner: Dear Republicans</th>\n",
       "      <td>\\n\\nNext t...  1240483727114788870 2020-03-19...</td>\n",
       "    </tr>\n",
       "    <tr>\n",
       "      <th>99  RT @ScottAdamsSays: One unexpected benefit of ...  1240483690334932998 2020-03-19 03:42:13  Twitter for iPhone     None       en</th>\n",
       "      <td>NaN</td>\n",
       "    </tr>\n",
       "    <tr>\n",
       "      <th>[100 rows x 6 columns]</th>\n",
       "      <td>NaN</td>\n",
       "    </tr>\n",
       "  </tbody>\n",
       "</table>\n",
       "</div>"
      ],
      "text/plain": [
       "                                                                                                  Tweets                   id                date              source location language\n",
       "0   RT @NathanLerner: Dear Republicans               \\n\\nNext t...  1240486705314095105 2020-03-19...                                                                                  \n",
       "1   Nope nothing at all anthropogenic about cli...                                                NaN                                                                                  \n",
       "2   RT @NathanLerner: Dear Republicans               \\n\\nNext t...  1240486538414379012 2020-03-19...                                                                                  \n",
       "3   RT @NathanLerner: Dear Republicans               \\n\\nNext t...  1240486455241330689 2020-03-19...                                                                                  \n",
       "4   The world is acting over the coronavirus pa...                                                NaN                                                                                  \n",
       "..                                             ...                                                NaN                                                                                  \n",
       "95  RT @NathanLerner: Dear Republicans               \\n\\nNext t...  1240483851949899776 2020-03-19...                                                                                  \n",
       "96  RT @NathanLerner: Dear Republicans               \\n\\nNext t...  1240483802876645377 2020-03-19...                                                                                  \n",
       "97  RT @NathanLerner: Dear Republicans               \\n\\nNext t...  1240483736178888704 2020-03-19...                                                                                  \n",
       "98  RT @NathanLerner: Dear Republicans               \\n\\nNext t...  1240483727114788870 2020-03-19...                                                                                  \n",
       "99  RT @ScottAdamsSays: One unexpected benefit ...                                                NaN                                                                                  \n",
       "[100 rows x 6 columns]                                                                            NaN                                                                                  "
      ]
     },
     "execution_count": 7,
     "metadata": {},
     "output_type": "execute_result"
    }
   ],
   "source": [
    "#twitter = pd.read_csv('twitter_api/tweets.csv')\n",
    "#twitter\n",
    "\n",
    "tweets = pd.read\n"
   ]
  },
  {
   "cell_type": "code",
   "execution_count": null,
   "metadata": {},
   "outputs": [],
   "source": []
  }
 ],
 "metadata": {
  "kernelspec": {
   "display_name": "Python 3",
   "language": "python",
   "name": "python3"
  },
  "language_info": {
   "codemirror_mode": {
    "name": "ipython",
    "version": 3
   },
   "file_extension": ".py",
   "mimetype": "text/x-python",
   "name": "python",
   "nbconvert_exporter": "python",
   "pygments_lexer": "ipython3",
   "version": "3.7.6"
  }
 },
 "nbformat": 4,
 "nbformat_minor": 4
}
