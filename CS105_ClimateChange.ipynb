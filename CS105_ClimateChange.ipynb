{
 "cells": [
  {
   "cell_type": "markdown",
   "metadata": {},
   "source": [
    "# CS105 - Winter 2020 - Final Project\n",
    "Instructor: Mariam Salloum\n",
    "\n",
    "Group: ClimateChangeIsReal\n",
    "\n",
    "Group Members: Hazel Nguyen, Itzel Gonzalez\n",
    "\n",
    "This notebook is to assess our data and use what we learned in class: gathering data, EDA, machine learning, visualizations, etc.\n",
    "\n",
    "We will be \n",
    "1) Gathering Data\n",
    "2) EDA cleaning\n",
    "3) Make predictions using machine learning (linear regression, classification)\n",
    "\n"
   ]
  },
  {
   "cell_type": "code",
   "execution_count": null,
   "metadata": {},
   "outputs": [],
   "source": [
    "# import libraries\n",
    "import numpy as np\n",
    "import pandas as pd\n",
    "import matplotlib.pyplot as plt\n",
    "import seaborn as sb\n",
    "import random as rand\n",
    "from sklearn.model_selection import train_test_split"
   ]
  }
 ],
 "metadata": {
  "kernelspec": {
   "display_name": "Python 3",
   "language": "python",
   "name": "python3"
  },
  "language_info": {
   "codemirror_mode": {
    "name": "ipython",
    "version": 3
   },
   "file_extension": ".py",
   "mimetype": "text/x-python",
   "name": "python",
   "nbconvert_exporter": "python",
   "pygments_lexer": "ipython3",
   "version": "3.7.6"
  }
 },
 "nbformat": 4,
 "nbformat_minor": 4
}
