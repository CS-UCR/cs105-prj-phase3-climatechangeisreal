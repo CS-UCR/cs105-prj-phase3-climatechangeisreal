{
 "cells": [
  {
   "cell_type": "markdown",
   "metadata": {},
   "source": [
    "# Twitter API\n",
    "\n",
    "Obtain Tweets from Twitter API by using Tweepy (an easy-to-use Python Library)\n",
    "\n",
    "to use Tweepy \n",
    "1. Make sure you have a twitter developer account (apps.twitter.com)\n",
    "2. Install python and tweepy\n",
    "3. Keywords or hashtag\n",
    "\n",
    "\n",
    "More about it, go here http://www.tweepy.org/\n",
    "\n",
    "Docs: https://tweepy.readthedocs.io/en/v3.5.0/\n",
    "\n",
    "1) First install tweepy module using either:\n",
    "\"pip install tweepy\", \"pip install --user tweepy\", python3 -m pip install tweepy (run python 3), easy_install tweepy\n",
    "\n",
    "\n",
    "Once we have this, we make a Twitter application that will be used to interface with Python code we will write, and allow us to stream and process live tweets. After creating the Twitter application, we will leverage the \"tweepy\" module to stream the tweets.\n",
    "\n",
    "\n",
    "Running a python file \n",
    "\n",
    "run: \"python tweepy_streamer.py\"\n",
    "run: \"python3 tweepy_streamer.py\"\n",
    "\n",
    "Wait for data to compile in tweets.txt\n",
    "\n",
    "\n"
   ]
  },
  {
   "cell_type": "code",
   "execution_count": 2,
   "metadata": {},
   "outputs": [
    {
     "name": "stdout",
     "output_type": "stream",
     "text": [
      "Requirement already satisfied: tweepy in /Users/titillaty/Library/Python/3.7/lib/python/site-packages (3.8.0)\n",
      "Requirement already satisfied: PySocks>=1.5.7 in /usr/local/lib/python3.7/site-packages (from tweepy) (1.7.1)\n",
      "Requirement already satisfied: requests>=2.11.1 in /usr/local/lib/python3.7/site-packages (from tweepy) (2.23.0)\n",
      "Requirement already satisfied: six>=1.10.0 in /usr/local/lib/python3.7/site-packages (from tweepy) (1.14.0)\n",
      "Requirement already satisfied: requests-oauthlib>=0.7.0 in /usr/local/lib/python3.7/site-packages (from tweepy) (1.3.0)\n",
      "Requirement already satisfied: chardet<4,>=3.0.2 in /usr/local/lib/python3.7/site-packages (from requests>=2.11.1->tweepy) (3.0.4)\n",
      "Requirement already satisfied: certifi>=2017.4.17 in /usr/local/lib/python3.7/site-packages (from requests>=2.11.1->tweepy) (2019.11.28)\n",
      "Requirement already satisfied: urllib3!=1.25.0,!=1.25.1,<1.26,>=1.21.1 in /usr/local/lib/python3.7/site-packages (from requests>=2.11.1->tweepy) (1.25.8)\n",
      "Requirement already satisfied: idna<3,>=2.5 in /usr/local/lib/python3.7/site-packages (from requests>=2.11.1->tweepy) (2.9)\n",
      "Requirement already satisfied: oauthlib>=3.0.0 in /usr/local/lib/python3.7/site-packages (from requests-oauthlib>=0.7.0->tweepy) (3.1.0)\n",
      "Requirement already satisfied: twitter in /usr/local/lib/python3.7/site-packages (1.18.0)\n",
      "Requirement already satisfied: textblob in /usr/local/lib/python3.7/site-packages (0.15.3)\n",
      "Requirement already satisfied: nltk>=3.1 in /usr/local/lib/python3.7/site-packages (from textblob) (3.4.5)\n",
      "Requirement already satisfied: six in /usr/local/lib/python3.7/site-packages (from nltk>=3.1->textblob) (1.14.0)\n"
     ]
    }
   ],
   "source": [
    "!pip3 install tweepy\n",
    "!pip3 install twitter\n",
    "!pip3 install textblob"
   ]
  },
  {
   "cell_type": "code",
   "execution_count": 3,
   "metadata": {},
   "outputs": [],
   "source": [
    "# Importing Libraries\n",
    "\n",
    "from tweepy import API\n",
    "from tweepy import Cursor\n",
    "from tweepy.streaming import StreamListener\n",
    "from tweepy import OAuthHandler\n",
    "from tweepy import Stream\n",
    "from textblob import TextBlob\n",
    "\n",
    "#import twitter_credentials\n",
    "import numpy as np\n",
    "import pandas as pd\n",
    "import re\n",
    "\n",
    "%matplotlib inline\n",
    "\n",
    "ACCESS_TOKEN = \"1136369634129481728-w7wauJQzbgvThvpbgQsW6iIj2KyJ1M\"\n",
    "ACCESS_TOKEN_SECRET = \"XB8x5ghZ3kDq1kBqVlLxLXa7B3kx81VVUdZ7kXyXhT53A\"\n",
    "CONSUMER_KEY = \"2du2zUjQQW8IP4b2OM4x8IaER\"\n",
    "CONSUMER_SECRET = \"WxOyNNoroCQ0OsFHtD6Vpn2FgvRbwPKqqBJdNb1ye32pdLszUW\""
   ]
  },
  {
   "cell_type": "code",
   "execution_count": 4,
   "metadata": {},
   "outputs": [],
   "source": [
    "# # # # TWITTER CLIENT # # # #\n",
    "class TwitterClient():\n",
    "    def __init__(self, twitter_user=None):\n",
    "        self.auth = TwitterAuthenticator().authenticate_twitter_app()\n",
    "        self.twitter_client = API(self.auth)\n",
    "\n",
    "        self.twitter_user = twitter_user\n",
    "\n",
    "    # newly added\n",
    "    def get_twitter_client_api(self):\n",
    "        return self.twitter_client\n",
    "\n",
    "    def get_user_timeline_tweets(self, num_tweets):\n",
    "        tweets = []\n",
    "        for tweet in Cursor(self.twitter_client.user_timeline, id=self.twitter_user).items(num_tweets):\n",
    "            tweets.append(tweet)\n",
    "        return tweets\n",
    "\n",
    "    def get_friend_list(self, num_friends):\n",
    "        friend_list = []\n",
    "        for friend in Cursor(self.twitter_client.friends, id=self.twitter_user).items(num_friends):\n",
    "            friend_list.append(friend)\n",
    "        return friend_list\n",
    "\n",
    "    def get_home_timeline_tweets(self, num_tweets):\n",
    "        home_timeline_tweets = []\n",
    "        for tweet in Cursor(self.twitter_client.home_timeline, id=self.twitter_user).items(num_tweets):\n",
    "            home_timeline_tweets.append(tweet)\n",
    "        return home_timeline_tweets\n",
    "\n",
    "    def search_timeline(self, num_tweets):\n",
    "        search_timeline = []\n",
    "        for tweet in Cursor(self.twitter_client.search, q=\"climate%20change%20coronavirus\").items(num_tweets):\n",
    "            search_timeline.append(tweet)\n",
    "        return search_timeline\n",
    "\n",
    "\n",
    "# # # # TWITTER AUTHENTICATER # # # #\n",
    "class TwitterAuthenticator():\n",
    "\n",
    "    def authenticate_twitter_app(self):\n",
    "        auth = OAuthHandler(CONSUMER_KEY, CONSUMER_SECRET)\n",
    "        auth.set_access_token(ACCESS_TOKEN, ACCESS_TOKEN_SECRET)\n",
    "        return auth\n",
    "\n",
    "class TweetAnalyzer():\n",
    "    \"\"\"\n",
    "    Functionality for analyzing and categorizing content from tweets.\n",
    "    \"\"\"\n",
    "    \n",
    "    def clean_tweet(self, tweet):\n",
    "        return ' '.join(re.sub(\"(@[A-Za-z0-9]+)|([^0-9A-Za-z \\t])|(\\w+:\\/\\/\\S+)\", \" \", tweet).split())\n",
    "\n",
    "    def analyze_sentiment(self, tweet):\n",
    "        analysis = TextBlob(self.clean_tweet(tweet))\n",
    "        \n",
    "        if analysis.sentiment.polarity > 0:\n",
    "            return 1\n",
    "        elif analysis.sentiment.polarity == 0:\n",
    "            return 0\n",
    "        else:\n",
    "            return -1\n",
    "        \n",
    "        \n",
    "    def tweets_to_data_frame(self, tweets):\n",
    "        df = pd.DataFrame(data=[tweet.text for tweet in tweets], columns=['tweets'])\n",
    "\n",
    "        #df['id'] = np.array([tweet.id for tweet in tweets])\n",
    "        df['len'] = np.array([len(tweet.text) for tweet in tweets])\n",
    "        df['date'] = np.array([tweet.created_at for tweet in tweets])\n",
    "        #df['source'] = np.array([tweet.source for tweet in tweets])\n",
    "        df['likes'] = np.array([tweet.favorite_count for tweet in tweets])\n",
    "        df['retweets'] = np.array([tweet.retweet_count for tweet in tweets])\n",
    "        #df['location'] = np.array([tweet.place for tweet in tweets])\n",
    "        df['language'] = np.array([tweet.lang for tweet in tweets])\n",
    "\n",
    "        return df\n"
   ]
  },
  {
   "cell_type": "code",
   "execution_count": 5,
   "metadata": {
    "scrolled": true
   },
   "outputs": [
    {
     "name": "stdout",
     "output_type": "stream",
     "text": [
      "                                               tweets  len  \\\n",
      "0   RT @insideclimate: Yes, the coronavirus outbre...  140   \n",
      "1   RT @jonathanstea: @CaulfieldTim @laurahelmuth ...  140   \n",
      "2   Yes, the coronavirus outbreak has forced down ...  140   \n",
      "3   RT @bethsawin: The individual solution to clim...  139   \n",
      "4   RT @bethsawin: The collective solution to clim...  140   \n",
      "5   RT @RebeccaReCap: Many people have noted the u...  140   \n",
      "6   “Destroying habitats is the cause, so restorin...  140   \n",
      "7   rtr: Don't let coronavirus stall climate actio...  140   \n",
      "8   RT @spencerlatu: I hope it’s becoming extremel...  140   \n",
      "9   RT @WalkerBragman: In a matter of weeks, coron...  140   \n",
      "10  RT @whatsupboosh: The people who reject the sc...  140   \n",
      "11  @IsabelleLetell1 6/6)whyR V so muchMOREafraid ...  140   \n",
      "12  RT @spencerlatu: I hope it’s becoming extremel...  140   \n",
      "13  @MarvinDorfler5 @IngrahamAngle Trump won't sha...  139   \n",
      "14  Wrote a little thing for our On Politics newsl...  140   \n",
      "15  RT @WalkerBragman: In a matter of weeks, coron...  140   \n",
      "16  RT @tveitdal: The world is acting over the cor...  136   \n",
      "17  \"My daughter and her peers already have faced ...  140   \n",
      "18  RT @ShabnamHamseda: @globepolitics #WakeUpCana...  140   \n",
      "19  RT @elainaplott: Wrote a little thing for our ...  140   \n",
      "\n",
      "                  date  likes  retweets language  \n",
      "0  2020-03-20 15:51:09      0         2       en  \n",
      "1  2020-03-20 15:50:38      0         7       en  \n",
      "2  2020-03-20 15:50:00      6         2       en  \n",
      "3  2020-03-20 15:49:57      0         8       en  \n",
      "4  2020-03-20 15:49:53      0         8       en  \n",
      "5  2020-03-20 15:49:42      0        80       en  \n",
      "6  2020-03-20 15:49:29      0         0       en  \n",
      "7  2020-03-20 15:49:06      0         0       en  \n",
      "8  2020-03-20 15:48:37      0        61       en  \n",
      "9  2020-03-20 15:48:11      0       179       en  \n",
      "10 2020-03-20 15:47:21      0      1872       en  \n",
      "11 2020-03-20 15:46:58      0         0       en  \n",
      "12 2020-03-20 15:46:29      0        61       en  \n",
      "13 2020-03-20 15:46:25      0         0       en  \n",
      "14 2020-03-20 15:45:51      0         0       en  \n",
      "15 2020-03-20 15:45:50      0       179       en  \n",
      "16 2020-03-20 15:45:21      0       101       en  \n",
      "17 2020-03-20 15:45:00      0         0       en  \n",
      "18 2020-03-20 15:44:37      0         6       en  \n",
      "19 2020-03-20 15:44:34      0         1       en  \n"
     ]
    }
   ],
   "source": [
    "if __name__ == '__main__':\n",
    "\n",
    "    twitter_client = TwitterClient()\n",
    "    tweet_analyzer = TweetAnalyzer()\n",
    "\n",
    "    api = twitter_client.get_twitter_client_api()\n",
    "\n",
    "    #tweets = api.user_timeline(screen_name=\"realDonaldTrump\", count=20)\n",
    "    tweets = api.search(q=\"climate%20change%20coronavirus\", count=200)\n",
    "\n",
    "    #print(dir(tweets[0])) # what we can extract (columns)\n",
    "    #print(tweets[0].retweet_count)\n",
    "\n",
    "    df = tweet_analyzer.tweets_to_data_frame(tweets)\n",
    "    #print(df.head(10))\n",
    "    print(df.head(20))\n",
    "    "
   ]
  },
  {
   "cell_type": "code",
   "execution_count": 6,
   "metadata": {},
   "outputs": [
    {
     "name": "stdout",
     "output_type": "stream",
     "text": [
      "Length over all tweets 134.33\n",
      "Number of likes for most liked tweet: 6\n",
      "Most rewtweeted tweet has:  41679\n"
     ]
    }
   ],
   "source": [
    "    # Get average length over all tweets:\n",
    "    print(\"Length over all tweets\", np.mean(df['len']))\n",
    "\n",
    "    # Get the number of likes for the most liked tweet:\n",
    "    print(\"Number of likes for most liked tweet:\", np.max(df['likes']))\n",
    "\n",
    "    # Get the number of retweets for the most retweeted tweet:\n",
    "    print(\"Most rewtweeted tweet has: \", np.max(df['retweets']))\n",
    "    "
   ]
  },
  {
   "cell_type": "code",
   "execution_count": 7,
   "metadata": {},
   "outputs": [
    {
     "data": {
      "text/plain": [
       "<matplotlib.axes._subplots.AxesSubplot at 0x11e4ee5d0>"
      ]
     },
     "execution_count": 7,
     "metadata": {},
     "output_type": "execute_result"
    },
    {
     "data": {
      "image/png": "[encoded data removed]",
      "text/plain": [
       "<Figure size 1152x288 with 1 Axes>"
      ]
     },
     "metadata": {
      "needs_background": "light"
     },
     "output_type": "display_data"
    }
   ],
   "source": [
    "    # Time Series\n",
    "    time_likes = pd.Series(data=df['len'].values, index=df['date'])\n",
    "    time_likes.plot(figsize=(16, 4), color='r')\n",
    "    #plt.show()\n",
    "    \n",
    "    #time_favs = pd.Series(data=df['likes'].values, index=df['date'])\n",
    "    #time_favs.plot(figsize=(16, 4), color='r')\n",
    "    #plt.show()\n",
    "\n",
    "    #time_retweets = pd.Series(data=df['retweets'].values, index=df['date'])\n",
    "    #time_retweets.plot(figsize=(16, 4), color='r')\n",
    "    #plt.show()\n",
    "\n",
    "    # Layered Time Series:\n",
    "    #time_likes = pd.Series(data=df['likes'].values, index=df['date'])\n",
    "    #time_likes.plot(figsize=(16, 4), label=\"likes\", legend=True)\n",
    "\n",
    "    #time_retweets = pd.Series(data=df['retweets'].values, index=df['date'])\n",
    "    #time_retweets.plot(figsize=(16, 4), label=\"retweets\", legend=True)\n",
    "    #plt.show()"
   ]
  },
  {
   "cell_type": "code",
   "execution_count": 9,
   "metadata": {},
   "outputs": [
    {
     "name": "stdout",
     "output_type": "stream",
     "text": [
      "                                              tweets  len                date  \\\n",
      "0  RT @insideclimate: Yes, the coronavirus outbre...  140 2020-03-20 15:51:09   \n",
      "1  RT @jonathanstea: @CaulfieldTim @laurahelmuth ...  140 2020-03-20 15:50:38   \n",
      "2  Yes, the coronavirus outbreak has forced down ...  140 2020-03-20 15:50:00   \n",
      "3  RT @bethsawin: The individual solution to clim...  139 2020-03-20 15:49:57   \n",
      "4  RT @bethsawin: The collective solution to clim...  140 2020-03-20 15:49:53   \n",
      "5  RT @RebeccaReCap: Many people have noted the u...  140 2020-03-20 15:49:42   \n",
      "6  “Destroying habitats is the cause, so restorin...  140 2020-03-20 15:49:29   \n",
      "7  rtr: Don't let coronavirus stall climate actio...  140 2020-03-20 15:49:06   \n",
      "8  RT @spencerlatu: I hope it’s becoming extremel...  140 2020-03-20 15:48:37   \n",
      "9  RT @WalkerBragman: In a matter of weeks, coron...  140 2020-03-20 15:48:11   \n",
      "\n",
      "   likes  retweets language  sentiment  \n",
      "0      0         2       en         -1  \n",
      "1      0         7       en          1  \n",
      "2      6         2       en         -1  \n",
      "3      0         8       en          1  \n",
      "4      0         8       en          1  \n",
      "5      0        80       en          0  \n",
      "6      0         0       en         -1  \n",
      "7      0         0       en          1  \n",
      "8      0        61       en          1  \n",
      "9      0       179       en          0  \n"
     ]
    }
   ],
   "source": [
    "df['sentiment'] = np.array([tweet_analyzer.analyze_sentiment(tweet) for tweet in df['tweets']])\n",
    "\n",
    "print(df.head(10))"
   ]
  },
  {
   "cell_type": "code",
   "execution_count": 10,
   "metadata": {},
   "outputs": [
    {
     "data": {
      "text/plain": [
       "<matplotlib.axes._subplots.AxesSubplot at 0x120a86050>"
      ]
     },
     "execution_count": 10,
     "metadata": {},
     "output_type": "execute_result"
    },
    {
     "data": {
      "image/png": "[encoded data removed]",
      "text/plain": [
       "<Figure size 432x288 with 1 Axes>"
      ]
     },
     "metadata": {
      "needs_background": "light"
     },
     "output_type": "display_data"
    }
   ],
   "source": [
    "df['sentiment'].plot.hist()"
   ]
  },
  {
   "cell_type": "markdown",
   "metadata": {},
   "source": [
    "# External Resources\n",
    "\n",
    "https://www.youtube.com/watch?v=wlnx-7cm4Gg"
   ]
  }
 ],
 "metadata": {
  "kernelspec": {
   "display_name": "Python 3",
   "language": "python",
   "name": "python3"
  },
  "language_info": {
   "codemirror_mode": {
    "name": "ipython",
    "version": 3
   },
   "file_extension": ".py",
   "mimetype": "text/x-python",
   "name": "python",
   "nbconvert_exporter": "python",
   "pygments_lexer": "ipython3",
   "version": "3.7.6"
  }
 },
 "nbformat": 4,
 "nbformat_minor": 4
}
